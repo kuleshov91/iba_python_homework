{
  "metadata": {
    "kernelspec": {
      "name": "python",
      "display_name": "Python (Pyodide)",
      "language": "python"
    },
    "language_info": {
      "codemirror_mode": {
        "name": "python",
        "version": 3
      },
      "file_extension": ".py",
      "mimetype": "text/x-python",
      "name": "python",
      "nbconvert_exporter": "python",
      "pygments_lexer": "ipython3",
      "version": "3.8"
    }
  },
  "nbformat_minor": 4,
  "nbformat": 4,
  "cells": [
    {
      "cell_type": "markdown",
      "source": "**1. Имеются следующие данные о транзакциях в период с 01.12.2010 по 12.09.2011:**\n\n* InvoiceNo — номер транзакции\n* StockCode — код товара\n* Description — описание товара\n* Quantity — количество единиц товара, добавленных в заказ\n* InvoiceDate — дата транзакции \n* UnitPrice — цена за единицу товара\n* CustomerID — id клиента\n* Country — страна, где проживает клиент\n\n**В данной задаче ссылка для считывания данных лежит в переменной path_to_file.\nИмпортируйте пандас и прочитайте данные с кодировкой ISO-8859-1. Запишите полученный датафрейм в retail, а названия колонок сохраните в переменную retail_columns.**",
      "metadata": {}
    },
    {
      "cell_type": "code",
      "source": "import pandas as pd\npath_to_file = 'data.csv'\nretail = pd.read_csv(path_to_file, \n                 encoding='ISO-8859-1', sep=',')\nretail.head()",
      "metadata": {
        "trusted": true
      },
      "outputs": [
        {
          "execution_count": 5,
          "output_type": "execute_result",
          "data": {
            "text/plain": "  InvoiceNo StockCode                          Description  Quantity  \\\n0    536365    85123A   WHITE HANGING HEART T-LIGHT HOLDER         6   \n1    536365     71053                  WHITE METAL LANTERN         6   \n2    536365    84406B       CREAM CUPID HEARTS COAT HANGER         8   \n3    536365    84029G  KNITTED UNION FLAG HOT WATER BOTTLE         6   \n4    536365    84029E       RED WOOLLY HOTTIE WHITE HEART.         6   \n\n      InvoiceDate  UnitPrice  CustomerID         Country  \n0  12/1/2010 8:26       2.55     17850.0  United Kingdom  \n1  12/1/2010 8:26       3.39     17850.0  United Kingdom  \n2  12/1/2010 8:26       2.75     17850.0  United Kingdom  \n3  12/1/2010 8:26       3.39     17850.0  United Kingdom  \n4  12/1/2010 8:26       3.39     17850.0  United Kingdom  ",
            "text/html": "<div>\n<style scoped>\n    .dataframe tbody tr th:only-of-type {\n        vertical-align: middle;\n    }\n\n    .dataframe tbody tr th {\n        vertical-align: top;\n    }\n\n    .dataframe thead th {\n        text-align: right;\n    }\n</style>\n<table border=\"1\" class=\"dataframe\">\n  <thead>\n    <tr style=\"text-align: right;\">\n      <th></th>\n      <th>InvoiceNo</th>\n      <th>StockCode</th>\n      <th>Description</th>\n      <th>Quantity</th>\n      <th>InvoiceDate</th>\n      <th>UnitPrice</th>\n      <th>CustomerID</th>\n      <th>Country</th>\n    </tr>\n  </thead>\n  <tbody>\n    <tr>\n      <th>0</th>\n      <td>536365</td>\n      <td>85123A</td>\n      <td>WHITE HANGING HEART T-LIGHT HOLDER</td>\n      <td>6</td>\n      <td>12/1/2010 8:26</td>\n      <td>2.55</td>\n      <td>17850.0</td>\n      <td>United Kingdom</td>\n    </tr>\n    <tr>\n      <th>1</th>\n      <td>536365</td>\n      <td>71053</td>\n      <td>WHITE METAL LANTERN</td>\n      <td>6</td>\n      <td>12/1/2010 8:26</td>\n      <td>3.39</td>\n      <td>17850.0</td>\n      <td>United Kingdom</td>\n    </tr>\n    <tr>\n      <th>2</th>\n      <td>536365</td>\n      <td>84406B</td>\n      <td>CREAM CUPID HEARTS COAT HANGER</td>\n      <td>8</td>\n      <td>12/1/2010 8:26</td>\n      <td>2.75</td>\n      <td>17850.0</td>\n      <td>United Kingdom</td>\n    </tr>\n    <tr>\n      <th>3</th>\n      <td>536365</td>\n      <td>84029G</td>\n      <td>KNITTED UNION FLAG HOT WATER BOTTLE</td>\n      <td>6</td>\n      <td>12/1/2010 8:26</td>\n      <td>3.39</td>\n      <td>17850.0</td>\n      <td>United Kingdom</td>\n    </tr>\n    <tr>\n      <th>4</th>\n      <td>536365</td>\n      <td>84029E</td>\n      <td>RED WOOLLY HOTTIE WHITE HEART.</td>\n      <td>6</td>\n      <td>12/1/2010 8:26</td>\n      <td>3.39</td>\n      <td>17850.0</td>\n      <td>United Kingdom</td>\n    </tr>\n  </tbody>\n</table>\n</div>"
          },
          "metadata": {}
        }
      ],
      "execution_count": 5
    },
    {
      "cell_type": "code",
      "source": "retail_columns = retail.columns\nretail_columns",
      "metadata": {
        "trusted": true
      },
      "outputs": [
        {
          "execution_count": 4,
          "output_type": "execute_result",
          "data": {
            "text/plain": "Index(['InvoiceNo', 'StockCode', 'Description', 'Quantity', 'InvoiceDate',\n       'UnitPrice', 'CustomerID', 'Country'],\n      dtype='object')"
          },
          "metadata": {}
        }
      ],
      "execution_count": 4
    },
    {
      "cell_type": "markdown",
      "source": "**2. Проверьте, встречаются ли в данных повторяющиеся наблюдения, и в качестве ответа укажите их количество. Если они есть, то удалите их из retail.**\n\nВам понадобится len(название_колонки) и drop_duplicates()",
      "metadata": {}
    },
    {
      "cell_type": "code",
      "source": "len(retail)",
      "metadata": {
        "trusted": true
      },
      "outputs": [
        {
          "execution_count": 13,
          "output_type": "execute_result",
          "data": {
            "text/plain": "541909"
          },
          "metadata": {}
        }
      ],
      "execution_count": 13
    },
    {
      "cell_type": "code",
      "source": "retail = retail.drop_duplicates()\nlen(retail)",
      "metadata": {
        "trusted": true
      },
      "outputs": [
        {
          "execution_count": 22,
          "output_type": "execute_result",
          "data": {
            "text/plain": "536641"
          },
          "metadata": {}
        }
      ],
      "execution_count": 22
    },
    {
      "cell_type": "markdown",
      "source": "**3. Данные содержат в себе записи как об успешных транзакциях, так и об отмененных. Если пользователь отменил заказ, в начале номера транзакции (InvoiceNo) ставится C (canceled).**\n\n**Сколько всего транзакций отменили пользователи? Каждый отдельный тип продукта считайте за отдельную транзакцию - уникальные номера считать не надо.**\n\nПрежде чем начать, попробуйте метод retail.InvoiceNo.str[0]\n\nДалее используйте метод .unique()\n\nИ сделайте выбоку по retail.loc[retail.InvoiceNo.str[0] == 'C'].shape",
      "metadata": {}
    },
    {
      "cell_type": "code",
      "source": "retail.InvoiceNo.str[0]",
      "metadata": {
        "trusted": true
      },
      "outputs": [
        {
          "execution_count": 24,
          "output_type": "execute_result",
          "data": {
            "text/plain": "0         5\n1         5\n2         5\n3         5\n4         5\n         ..\n541904    5\n541905    5\n541906    5\n541907    5\n541908    5\nName: InvoiceNo, Length: 536641, dtype: object"
          },
          "metadata": {}
        }
      ],
      "execution_count": 24
    },
    {
      "cell_type": "code",
      "source": "retail.InvoiceNo.str[0].unique()",
      "metadata": {
        "trusted": true
      },
      "outputs": [
        {
          "execution_count": 25,
          "output_type": "execute_result",
          "data": {
            "text/plain": "array(['5', 'C', 'A'], dtype=object)"
          },
          "metadata": {}
        }
      ],
      "execution_count": 25
    },
    {
      "cell_type": "code",
      "source": " retail.loc[retail.InvoiceNo.str[0] == 'C'].shape",
      "metadata": {
        "trusted": true
      },
      "outputs": [
        {
          "execution_count": 26,
          "output_type": "execute_result",
          "data": {
            "text/plain": "(9251, 8)"
          },
          "metadata": {}
        }
      ],
      "execution_count": 26
    },
    {
      "cell_type": "raw",
      "source": "4.Теперь отфильтруйте данные и оставьте в retail только те заказы, где Quantity > 0. В качестве ответа укажите число оставшихся строк.",
      "metadata": {}
    },
    {
      "cell_type": "code",
      "source": "retail = retail.loc[retail.Quantity > 0]\nretail.shape",
      "metadata": {
        "trusted": true
      },
      "outputs": [
        {
          "execution_count": 27,
          "output_type": "execute_result",
          "data": {
            "text/plain": "(526054, 8)"
          },
          "metadata": {}
        }
      ],
      "execution_count": 27
    },
    {
      "cell_type": "markdown",
      "source": "**5.Посчитайте число заказов для каждого пользователя (CustomerID) из Германии (Germany). Оставьте только тех, кто совершил более N транзакций (InvoiceNo), где N – 80% процентиль. Запишите полученные id пользователей в germany_top (не весь датафрейм, только id).**\n\nОтфильтрованные данные записаны в retail. Идентификатор заказа – InvoiceNo. Для каждого заказа в данных может встречаться более 1 строки.\n\n**Подсказка:**\n1. Начните с выборки retail.Country == 'Germany', группировки по 'CustomerID' и агрегации total_invoices=('InvoiceNo', 'nunique')\n2. Далее из полученой выборки из предыдущего шага выподните метод: название_выборки.столбец.quantile(0.8)\n3. Запишите полученные id пользователей в germany_top",
      "metadata": {}
    },
    {
      "cell_type": "code",
      "source": "invoice_dist = retail.query('Country == \"Germany\"')\\\n                     .groupby('CustomerID', as_index=False)\\\n                     .agg(total_invoices=('InvoiceNo', 'nunique'))\ninvoice_dist.head()",
      "metadata": {
        "trusted": true
      },
      "outputs": [
        {
          "execution_count": 31,
          "output_type": "execute_result",
          "data": {
            "text/plain": "   CustomerID  total_invoices\n0     12426.0               1\n1     12427.0               3\n2     12468.0               2\n3     12471.0              30\n4     12472.0               7",
            "text/html": "<div>\n<style scoped>\n    .dataframe tbody tr th:only-of-type {\n        vertical-align: middle;\n    }\n\n    .dataframe tbody tr th {\n        vertical-align: top;\n    }\n\n    .dataframe thead th {\n        text-align: right;\n    }\n</style>\n<table border=\"1\" class=\"dataframe\">\n  <thead>\n    <tr style=\"text-align: right;\">\n      <th></th>\n      <th>CustomerID</th>\n      <th>total_invoices</th>\n    </tr>\n  </thead>\n  <tbody>\n    <tr>\n      <th>0</th>\n      <td>12426.0</td>\n      <td>1</td>\n    </tr>\n    <tr>\n      <th>1</th>\n      <td>12427.0</td>\n      <td>3</td>\n    </tr>\n    <tr>\n      <th>2</th>\n      <td>12468.0</td>\n      <td>2</td>\n    </tr>\n    <tr>\n      <th>3</th>\n      <td>12471.0</td>\n      <td>30</td>\n    </tr>\n    <tr>\n      <th>4</th>\n      <td>12472.0</td>\n      <td>7</td>\n    </tr>\n  </tbody>\n</table>\n</div>"
          },
          "metadata": {}
        }
      ],
      "execution_count": 31
    },
    {
      "cell_type": "code",
      "source": "N = invoice_dist.total_invoices.quantile(0.8)\nN",
      "metadata": {
        "trusted": true
      },
      "outputs": [
        {
          "execution_count": 29,
          "output_type": "execute_result",
          "data": {
            "text/plain": "np.float64(7.0)"
          },
          "metadata": {}
        }
      ],
      "execution_count": 29
    },
    {
      "cell_type": "code",
      "source": "germany_top = invoice_dist.loc[invoice_dist.total_invoices > N]['CustomerID']\ngermany_top",
      "metadata": {
        "trusted": true
      },
      "outputs": [
        {
          "execution_count": 30,
          "output_type": "execute_result",
          "data": {
            "text/plain": "3     12471.0\n6     12474.0\n8     12476.0\n12    12481.0\n16    12500.0\n26    12524.0\n37    12569.0\n44    12600.0\n51    12619.0\n52    12621.0\n56    12626.0\n64    12647.0\n69    12662.0\n77    12705.0\n78    12708.0\n79    12709.0\n81    12712.0\n83    12720.0\nName: CustomerID, dtype: float64"
          },
          "metadata": {}
        }
      ],
      "execution_count": 30
    },
    {
      "cell_type": "markdown",
      "source": "**6. Используя объект с id пользователей (germany_top), полученный на предыдущем шаге, отфильтруйте наблюдения и оставьте в данных записи только по интересующим нас юзерам. Результирующий датафрейм запишите в top_retail_germany.**\n\nДатафрейм записан в retail, нужные id пользователей – в germany_top.\n\n**Подсказка**\nПопробуйте использовать top_retail_germany = retail.loc[retail.CustomerID.isin(germany_top)]",
      "metadata": {}
    },
    {
      "cell_type": "code",
      "source": "top_retail_germany = retail.loc[retail.CustomerID.isin(germany_top)]\ntop_retail_germany.head()",
      "metadata": {
        "trusted": true
      },
      "outputs": [
        {
          "execution_count": 33,
          "output_type": "execute_result",
          "data": {
            "text/plain": "     InvoiceNo StockCode                          Description  Quantity  \\\n1109    536527     22809              SET OF 6 T-LIGHTS SANTA         6   \n1110    536527     84347  ROTATING SILVER ANGELS T-LIGHT HLDR         6   \n1111    536527     84945   MULTI COLOUR SILVER T-LIGHT HOLDER        12   \n1112    536527     22242        5 HOOK HANGER MAGIC TOADSTOOL        12   \n1113    536527     22244           3 HOOK HANGER MAGIC GARDEN        12   \n\n          InvoiceDate  UnitPrice  CustomerID  Country  \n1109  12/1/2010 13:04       2.95     12662.0  Germany  \n1110  12/1/2010 13:04       2.55     12662.0  Germany  \n1111  12/1/2010 13:04       0.85     12662.0  Germany  \n1112  12/1/2010 13:04       1.65     12662.0  Germany  \n1113  12/1/2010 13:04       1.95     12662.0  Germany  ",
            "text/html": "<div>\n<style scoped>\n    .dataframe tbody tr th:only-of-type {\n        vertical-align: middle;\n    }\n\n    .dataframe tbody tr th {\n        vertical-align: top;\n    }\n\n    .dataframe thead th {\n        text-align: right;\n    }\n</style>\n<table border=\"1\" class=\"dataframe\">\n  <thead>\n    <tr style=\"text-align: right;\">\n      <th></th>\n      <th>InvoiceNo</th>\n      <th>StockCode</th>\n      <th>Description</th>\n      <th>Quantity</th>\n      <th>InvoiceDate</th>\n      <th>UnitPrice</th>\n      <th>CustomerID</th>\n      <th>Country</th>\n    </tr>\n  </thead>\n  <tbody>\n    <tr>\n      <th>1109</th>\n      <td>536527</td>\n      <td>22809</td>\n      <td>SET OF 6 T-LIGHTS SANTA</td>\n      <td>6</td>\n      <td>12/1/2010 13:04</td>\n      <td>2.95</td>\n      <td>12662.0</td>\n      <td>Germany</td>\n    </tr>\n    <tr>\n      <th>1110</th>\n      <td>536527</td>\n      <td>84347</td>\n      <td>ROTATING SILVER ANGELS T-LIGHT HLDR</td>\n      <td>6</td>\n      <td>12/1/2010 13:04</td>\n      <td>2.55</td>\n      <td>12662.0</td>\n      <td>Germany</td>\n    </tr>\n    <tr>\n      <th>1111</th>\n      <td>536527</td>\n      <td>84945</td>\n      <td>MULTI COLOUR SILVER T-LIGHT HOLDER</td>\n      <td>12</td>\n      <td>12/1/2010 13:04</td>\n      <td>0.85</td>\n      <td>12662.0</td>\n      <td>Germany</td>\n    </tr>\n    <tr>\n      <th>1112</th>\n      <td>536527</td>\n      <td>22242</td>\n      <td>5 HOOK HANGER MAGIC TOADSTOOL</td>\n      <td>12</td>\n      <td>12/1/2010 13:04</td>\n      <td>1.65</td>\n      <td>12662.0</td>\n      <td>Germany</td>\n    </tr>\n    <tr>\n      <th>1113</th>\n      <td>536527</td>\n      <td>22244</td>\n      <td>3 HOOK HANGER MAGIC GARDEN</td>\n      <td>12</td>\n      <td>12/1/2010 13:04</td>\n      <td>1.95</td>\n      <td>12662.0</td>\n      <td>Germany</td>\n    </tr>\n  </tbody>\n</table>\n</div>"
          },
          "metadata": {}
        }
      ],
      "execution_count": 33
    },
    {
      "cell_type": "markdown",
      "source": "**7. Сгруппируйте top_retail_germany по коду товара (StockCode). Какой из продуктов добавляли в корзину чаще всего, кроме POST?** \n\nNote: одним заказом считается единовременная покупка любого количества товара, т.е. без учета Quantity.",
      "metadata": {}
    },
    {
      "cell_type": "code",
      "source": "stock_code_germany = top_retail_germany.groupby('StockCode')\\\n                                       .size()\\\n                                       .sort_values(ascending=False)\nstock_code_germany.head()",
      "metadata": {
        "trusted": true
      },
      "outputs": [
        {
          "execution_count": 71,
          "output_type": "execute_result",
          "data": {
            "text/plain": "StockCode\nPOST     213\n22326     52\n22328     38\n22423     34\n20719     30\ndtype: int64"
          },
          "metadata": {}
        }
      ],
      "execution_count": 71
    },
    {
      "cell_type": "markdown",
      "source": "**8. Вернемся к анализу полного датасета retail. Создайте колонку Revenue с суммой покупки, используя колонки Quantity и UnitPrice.**\n\nОтфильтрованные данные записаны в retail.\n\n**Подсказка**\nretail['новый_столбец'] = retail.старый_столбец_1 * retail.старый_столбец_2",
      "metadata": {}
    },
    {
      "cell_type": "code",
      "source": "retail['Revenue'] = retail.UnitPrice * retail.Quantity\nretail['Revenue']",
      "metadata": {
        "trusted": true
      },
      "outputs": [
        {
          "execution_count": 72,
          "output_type": "execute_result",
          "data": {
            "text/plain": "0         15.30\n1         20.34\n2         22.00\n3         20.34\n4         20.34\n          ...  \n541904    10.20\n541905    12.60\n541906    16.60\n541907    16.60\n541908    14.85\nName: Revenue, Length: 526054, dtype: float64"
          },
          "metadata": {}
        }
      ],
      "execution_count": 72
    },
    {
      "cell_type": "code",
      "source": "",
      "metadata": {
        "trusted": true
      },
      "outputs": [],
      "execution_count": null
    }
  ]
}