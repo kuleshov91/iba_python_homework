{
  "metadata": {
    "kernelspec": {
      "name": "python",
      "display_name": "Python (Pyodide)",
      "language": "python"
    },
    "language_info": {
      "codemirror_mode": {
        "name": "python",
        "version": 3
      },
      "file_extension": ".py",
      "mimetype": "text/x-python",
      "name": "python",
      "nbconvert_exporter": "python",
      "pygments_lexer": "ipython3",
      "version": "3.8"
    }
  },
  "nbformat_minor": 4,
  "nbformat": 4,
  "cells": [
    {
      "cell_type": "markdown",
      "source": "Импортируйте библиотеку pandas как pd. Загрузите два датасета user_data и logs. \nПроверьте размер таблицы, типы переменных.\n\n# Описание данных\n\nuser_data:\n\nclient – идентификатор пользователя\n\npremium – является ли клиент премиум\n\nage – возраст\n\nlogs:\n\nclient – идентификатор пользователя\n\nsuccess – результат (успех - 1, нет - 0)\n\nplatform – платформа\n\ntime – время в формате Unix\n\n\n",
      "metadata": {}
    },
    {
      "cell_type": "code",
      "source": "import pandas as pd",
      "metadata": {
        "trusted": true
      },
      "outputs": [],
      "execution_count": 4
    },
    {
      "cell_type": "code",
      "source": "user_data = pd.read_csv('3_user_data.csv', \n                 encoding='windows-1251', sep=',')\nuser_data.head()",
      "metadata": {
        "trusted": true
      },
      "outputs": [
        {
          "execution_count": 8,
          "output_type": "execute_result",
          "data": {
            "text/plain": "   client  premium  age\n0   46346    False   58\n1    4391    False   55\n2   27372    False   64\n3   11989    False   44\n4   60664    False   49",
            "text/html": "<div>\n<style scoped>\n    .dataframe tbody tr th:only-of-type {\n        vertical-align: middle;\n    }\n\n    .dataframe tbody tr th {\n        vertical-align: top;\n    }\n\n    .dataframe thead th {\n        text-align: right;\n    }\n</style>\n<table border=\"1\" class=\"dataframe\">\n  <thead>\n    <tr style=\"text-align: right;\">\n      <th></th>\n      <th>client</th>\n      <th>premium</th>\n      <th>age</th>\n    </tr>\n  </thead>\n  <tbody>\n    <tr>\n      <th>0</th>\n      <td>46346</td>\n      <td>False</td>\n      <td>58</td>\n    </tr>\n    <tr>\n      <th>1</th>\n      <td>4391</td>\n      <td>False</td>\n      <td>55</td>\n    </tr>\n    <tr>\n      <th>2</th>\n      <td>27372</td>\n      <td>False</td>\n      <td>64</td>\n    </tr>\n    <tr>\n      <th>3</th>\n      <td>11989</td>\n      <td>False</td>\n      <td>44</td>\n    </tr>\n    <tr>\n      <th>4</th>\n      <td>60664</td>\n      <td>False</td>\n      <td>49</td>\n    </tr>\n  </tbody>\n</table>\n</div>"
          },
          "metadata": {}
        }
      ],
      "execution_count": 8
    },
    {
      "cell_type": "code",
      "source": "user_data.shape",
      "metadata": {
        "trusted": true
      },
      "outputs": [
        {
          "execution_count": 9,
          "output_type": "execute_result",
          "data": {
            "text/plain": "(2954, 3)"
          },
          "metadata": {}
        }
      ],
      "execution_count": 9
    },
    {
      "cell_type": "code",
      "source": "user_data.dtypes",
      "metadata": {
        "trusted": true
      },
      "outputs": [
        {
          "execution_count": 10,
          "output_type": "execute_result",
          "data": {
            "text/plain": "client     int64\npremium     bool\nage        int64\ndtype: object"
          },
          "metadata": {}
        }
      ],
      "execution_count": 10
    },
    {
      "cell_type": "code",
      "source": "logs = pd.read_csv('3_logs.csv', \n                 encoding='windows-1251', sep=',')\nlogs.head()",
      "metadata": {
        "trusted": true
      },
      "outputs": [
        {
          "execution_count": 6,
          "output_type": "execute_result",
          "data": {
            "text/plain": "   client  success  platform        time\n0   40177     True     phone  1585412212\n1   61468     True     phone  1585425658\n2   35604    False     phone  1585459894\n3    9961     True     phone  1585400189\n4   10931     True  computer  1585468629",
            "text/html": "<div>\n<style scoped>\n    .dataframe tbody tr th:only-of-type {\n        vertical-align: middle;\n    }\n\n    .dataframe tbody tr th {\n        vertical-align: top;\n    }\n\n    .dataframe thead th {\n        text-align: right;\n    }\n</style>\n<table border=\"1\" class=\"dataframe\">\n  <thead>\n    <tr style=\"text-align: right;\">\n      <th></th>\n      <th>client</th>\n      <th>success</th>\n      <th>platform</th>\n      <th>time</th>\n    </tr>\n  </thead>\n  <tbody>\n    <tr>\n      <th>0</th>\n      <td>40177</td>\n      <td>True</td>\n      <td>phone</td>\n      <td>1585412212</td>\n    </tr>\n    <tr>\n      <th>1</th>\n      <td>61468</td>\n      <td>True</td>\n      <td>phone</td>\n      <td>1585425658</td>\n    </tr>\n    <tr>\n      <th>2</th>\n      <td>35604</td>\n      <td>False</td>\n      <td>phone</td>\n      <td>1585459894</td>\n    </tr>\n    <tr>\n      <th>3</th>\n      <td>9961</td>\n      <td>True</td>\n      <td>phone</td>\n      <td>1585400189</td>\n    </tr>\n    <tr>\n      <th>4</th>\n      <td>10931</td>\n      <td>True</td>\n      <td>computer</td>\n      <td>1585468629</td>\n    </tr>\n  </tbody>\n</table>\n</div>"
          },
          "metadata": {}
        }
      ],
      "execution_count": 6
    },
    {
      "cell_type": "code",
      "source": "logs.shape",
      "metadata": {
        "trusted": true
      },
      "outputs": [
        {
          "execution_count": 11,
          "output_type": "execute_result",
          "data": {
            "text/plain": "(4500, 4)"
          },
          "metadata": {}
        }
      ],
      "execution_count": 11
    },
    {
      "cell_type": "code",
      "source": "logs.dtypes",
      "metadata": {
        "trusted": true
      },
      "outputs": [
        {
          "execution_count": 12,
          "output_type": "execute_result",
          "data": {
            "text/plain": "client       int64\nsuccess       bool\nplatform    object\ntime         int64\ndtype: object"
          },
          "metadata": {}
        }
      ],
      "execution_count": 12
    },
    {
      "cell_type": "markdown",
      "source": "# Задание 1 \n\nВопрос: Сколько уникальных значений принимает переменная platform?",
      "metadata": {}
    },
    {
      "cell_type": "code",
      "source": "logs.platform.unique()",
      "metadata": {
        "trusted": true
      },
      "outputs": [
        {
          "execution_count": 15,
          "output_type": "execute_result",
          "data": {
            "text/plain": "array(['phone', 'computer', 'tablet'], dtype=object)"
          },
          "metadata": {}
        }
      ],
      "execution_count": 15
    },
    {
      "cell_type": "code",
      "source": "logs.platform.nunique()",
      "metadata": {
        "trusted": true
      },
      "outputs": [
        {
          "execution_count": 16,
          "output_type": "execute_result",
          "data": {
            "text/plain": "3"
          },
          "metadata": {}
        }
      ],
      "execution_count": 16
    },
    {
      "cell_type": "markdown",
      "source": "# Задание 2\n\nС какой платформы осуществляется наибольшее количество успешных операций? (success == True)\n\n\nПодсказка: вспомните команды из прошлого занятия \n\nНазвание_датафрейма.query('success == True').platform.value_counts()\n\nа еще команда idxmax()",
      "metadata": {}
    },
    {
      "cell_type": "code",
      "source": "logs.query('success == True')\\\n    .groupby(['platform'], as_index = False)\\\n    .aggregate({'success': 'count'})\\\n    .sort_values('success', ascending=False)\\\n    .head(1)",
      "metadata": {
        "trusted": true
      },
      "outputs": [
        {
          "execution_count": 23,
          "output_type": "execute_result",
          "data": {
            "text/plain": "  platform  success\n1    phone     2019",
            "text/html": "<div>\n<style scoped>\n    .dataframe tbody tr th:only-of-type {\n        vertical-align: middle;\n    }\n\n    .dataframe tbody tr th {\n        vertical-align: top;\n    }\n\n    .dataframe thead th {\n        text-align: right;\n    }\n</style>\n<table border=\"1\" class=\"dataframe\">\n  <thead>\n    <tr style=\"text-align: right;\">\n      <th></th>\n      <th>platform</th>\n      <th>success</th>\n    </tr>\n  </thead>\n  <tbody>\n    <tr>\n      <th>1</th>\n      <td>phone</td>\n      <td>2019</td>\n    </tr>\n  </tbody>\n</table>\n</div>"
          },
          "metadata": {}
        }
      ],
      "execution_count": 23
    },
    {
      "cell_type": "markdown",
      "source": "# Задание 3\n\nКакой клиент совершил больше всего успешных операций?\n\nВнимание: Несколько пользователей могли совершить одинаковое число успешных действий\n\nПодсказка: вспомните команды из прошлого урока \n\nНазвание_датафрейма.query('success == True').client.value_counts()\n\nтакже поможет команда max()",
      "metadata": {}
    },
    {
      "cell_type": "code",
      "source": "max_value = logs.query('success == True')\\\n                .client\\\n                .value_counts().max()\nlogs.query('success == True')\\\n    .groupby(['client'], as_index = False)\\\n    .agg({'success': 'count'})\\\n    .query('success == @max_value')",
      "metadata": {
        "trusted": true
      },
      "outputs": [
        {
          "execution_count": 85,
          "output_type": "execute_result",
          "data": {
            "text/plain": "      client  success\n332    12179       41\n810    28719       41\n1020   36165       41\n1487   52870       41\n1758   61468       41\n1759   61473       41\n2231   78349       41\n2345   82563       41\n2626   92584       41",
            "text/html": "<div>\n<style scoped>\n    .dataframe tbody tr th:only-of-type {\n        vertical-align: middle;\n    }\n\n    .dataframe tbody tr th {\n        vertical-align: top;\n    }\n\n    .dataframe thead th {\n        text-align: right;\n    }\n</style>\n<table border=\"1\" class=\"dataframe\">\n  <thead>\n    <tr style=\"text-align: right;\">\n      <th></th>\n      <th>client</th>\n      <th>success</th>\n    </tr>\n  </thead>\n  <tbody>\n    <tr>\n      <th>332</th>\n      <td>12179</td>\n      <td>41</td>\n    </tr>\n    <tr>\n      <th>810</th>\n      <td>28719</td>\n      <td>41</td>\n    </tr>\n    <tr>\n      <th>1020</th>\n      <td>36165</td>\n      <td>41</td>\n    </tr>\n    <tr>\n      <th>1487</th>\n      <td>52870</td>\n      <td>41</td>\n    </tr>\n    <tr>\n      <th>1758</th>\n      <td>61468</td>\n      <td>41</td>\n    </tr>\n    <tr>\n      <th>1759</th>\n      <td>61473</td>\n      <td>41</td>\n    </tr>\n    <tr>\n      <th>2231</th>\n      <td>78349</td>\n      <td>41</td>\n    </tr>\n    <tr>\n      <th>2345</th>\n      <td>82563</td>\n      <td>41</td>\n    </tr>\n    <tr>\n      <th>2626</th>\n      <td>92584</td>\n      <td>41</td>\n    </tr>\n  </tbody>\n</table>\n</div>"
          },
          "metadata": {}
        }
      ],
      "execution_count": 85
    },
    {
      "cell_type": "markdown",
      "source": "# Задание 4\n\nОбъедините два датафрейма в один по столбцу 'client'\n\nПодсказка: Название_датафрейма_1.merge(Название_датафрейма_2, on='client')",
      "metadata": {}
    },
    {
      "cell_type": "code",
      "source": "full_data = user_data.merge(logs, on='client')\nfull_data.head()",
      "metadata": {
        "trusted": true
      },
      "outputs": [
        {
          "execution_count": 86,
          "output_type": "execute_result",
          "data": {
            "text/plain": "   client  premium  age  success  platform        time\n0   46346    False   58     True     phone  1585452839\n1    4391    False   55    False     phone  1585409861\n2   27372    False   64    False     phone  1585446018\n3   11989    False   44     True  computer  1585403698\n4   60664    False   49     True     phone  1585406918",
            "text/html": "<div>\n<style scoped>\n    .dataframe tbody tr th:only-of-type {\n        vertical-align: middle;\n    }\n\n    .dataframe tbody tr th {\n        vertical-align: top;\n    }\n\n    .dataframe thead th {\n        text-align: right;\n    }\n</style>\n<table border=\"1\" class=\"dataframe\">\n  <thead>\n    <tr style=\"text-align: right;\">\n      <th></th>\n      <th>client</th>\n      <th>premium</th>\n      <th>age</th>\n      <th>success</th>\n      <th>platform</th>\n      <th>time</th>\n    </tr>\n  </thead>\n  <tbody>\n    <tr>\n      <th>0</th>\n      <td>46346</td>\n      <td>False</td>\n      <td>58</td>\n      <td>True</td>\n      <td>phone</td>\n      <td>1585452839</td>\n    </tr>\n    <tr>\n      <th>1</th>\n      <td>4391</td>\n      <td>False</td>\n      <td>55</td>\n      <td>False</td>\n      <td>phone</td>\n      <td>1585409861</td>\n    </tr>\n    <tr>\n      <th>2</th>\n      <td>27372</td>\n      <td>False</td>\n      <td>64</td>\n      <td>False</td>\n      <td>phone</td>\n      <td>1585446018</td>\n    </tr>\n    <tr>\n      <th>3</th>\n      <td>11989</td>\n      <td>False</td>\n      <td>44</td>\n      <td>True</td>\n      <td>computer</td>\n      <td>1585403698</td>\n    </tr>\n    <tr>\n      <th>4</th>\n      <td>60664</td>\n      <td>False</td>\n      <td>49</td>\n      <td>True</td>\n      <td>phone</td>\n      <td>1585406918</td>\n    </tr>\n  </tbody>\n</table>\n</div>"
          },
          "metadata": {}
        }
      ],
      "execution_count": 86
    },
    {
      "cell_type": "markdown",
      "source": "# Задание 5\n\nКакая платформа наиболее популярна среди премиумных клиентов? (premium == True)",
      "metadata": {}
    },
    {
      "cell_type": "code",
      "source": "full_data.query('premium == True')\\\n         .groupby(['platform'], as_index = False)\\\n         .agg({'success': 'count'})\\\n         .sort_values('success', ascending=False)\\\n         .head(1)",
      "metadata": {
        "trusted": true
      },
      "outputs": [
        {
          "execution_count": 91,
          "output_type": "execute_result",
          "data": {
            "text/plain": "  platform  success\n1    phone      246",
            "text/html": "<div>\n<style scoped>\n    .dataframe tbody tr th:only-of-type {\n        vertical-align: middle;\n    }\n\n    .dataframe tbody tr th {\n        vertical-align: top;\n    }\n\n    .dataframe thead th {\n        text-align: right;\n    }\n</style>\n<table border=\"1\" class=\"dataframe\">\n  <thead>\n    <tr style=\"text-align: right;\">\n      <th></th>\n      <th>platform</th>\n      <th>success</th>\n    </tr>\n  </thead>\n  <tbody>\n    <tr>\n      <th>1</th>\n      <td>phone</td>\n      <td>246</td>\n    </tr>\n  </tbody>\n</table>\n</div>"
          },
          "metadata": {}
        }
      ],
      "execution_count": 91
    },
    {
      "cell_type": "markdown",
      "source": "# Задание 6\n\nСделайте выборку для премиальных клиентов (premium` == True) и для непримеальных.\n\nНа основе этих выборок постройте графики, первый - отображающий популярность использования различных платформ (столбец \"platform\") у премиальных пользователей и второй - платформы сради непримиальных пользователей. \n\nПодсказка: используйте sns.countplot(x=название_выборки[\"столбец\"])",
      "metadata": {}
    },
    {
      "cell_type": "code",
      "source": "premium = full_data.query('premium == True')\npremium.head(5)",
      "metadata": {
        "trusted": true
      },
      "outputs": [
        {
          "execution_count": 96,
          "output_type": "execute_result",
          "data": {
            "text/plain": "    client  premium  age  success  platform        time\n23   74867     True   27    False  computer  1585452086\n24   49379     True   25    False  computer  1585433626\n25   88203     True   35     True     phone  1585450059\n30   32603     True   20     True  computer  1585473383\n52   53182     True   24     True     phone  1585406474",
            "text/html": "<div>\n<style scoped>\n    .dataframe tbody tr th:only-of-type {\n        vertical-align: middle;\n    }\n\n    .dataframe tbody tr th {\n        vertical-align: top;\n    }\n\n    .dataframe thead th {\n        text-align: right;\n    }\n</style>\n<table border=\"1\" class=\"dataframe\">\n  <thead>\n    <tr style=\"text-align: right;\">\n      <th></th>\n      <th>client</th>\n      <th>premium</th>\n      <th>age</th>\n      <th>success</th>\n      <th>platform</th>\n      <th>time</th>\n    </tr>\n  </thead>\n  <tbody>\n    <tr>\n      <th>23</th>\n      <td>74867</td>\n      <td>True</td>\n      <td>27</td>\n      <td>False</td>\n      <td>computer</td>\n      <td>1585452086</td>\n    </tr>\n    <tr>\n      <th>24</th>\n      <td>49379</td>\n      <td>True</td>\n      <td>25</td>\n      <td>False</td>\n      <td>computer</td>\n      <td>1585433626</td>\n    </tr>\n    <tr>\n      <th>25</th>\n      <td>88203</td>\n      <td>True</td>\n      <td>35</td>\n      <td>True</td>\n      <td>phone</td>\n      <td>1585450059</td>\n    </tr>\n    <tr>\n      <th>30</th>\n      <td>32603</td>\n      <td>True</td>\n      <td>20</td>\n      <td>True</td>\n      <td>computer</td>\n      <td>1585473383</td>\n    </tr>\n    <tr>\n      <th>52</th>\n      <td>53182</td>\n      <td>True</td>\n      <td>24</td>\n      <td>True</td>\n      <td>phone</td>\n      <td>1585406474</td>\n    </tr>\n  </tbody>\n</table>\n</div>"
          },
          "metadata": {}
        }
      ],
      "execution_count": 96
    },
    {
      "cell_type": "code",
      "source": "not_premium = full_data.query('premium == False')\nnot_premium.head(5)",
      "metadata": {
        "trusted": true
      },
      "outputs": [
        {
          "execution_count": 97,
          "output_type": "execute_result",
          "data": {
            "text/plain": "   client  premium  age  success  platform        time\n0   46346    False   58     True     phone  1585452839\n1    4391    False   55    False     phone  1585409861\n2   27372    False   64    False     phone  1585446018\n3   11989    False   44     True  computer  1585403698\n4   60664    False   49     True     phone  1585406918",
            "text/html": "<div>\n<style scoped>\n    .dataframe tbody tr th:only-of-type {\n        vertical-align: middle;\n    }\n\n    .dataframe tbody tr th {\n        vertical-align: top;\n    }\n\n    .dataframe thead th {\n        text-align: right;\n    }\n</style>\n<table border=\"1\" class=\"dataframe\">\n  <thead>\n    <tr style=\"text-align: right;\">\n      <th></th>\n      <th>client</th>\n      <th>premium</th>\n      <th>age</th>\n      <th>success</th>\n      <th>platform</th>\n      <th>time</th>\n    </tr>\n  </thead>\n  <tbody>\n    <tr>\n      <th>0</th>\n      <td>46346</td>\n      <td>False</td>\n      <td>58</td>\n      <td>True</td>\n      <td>phone</td>\n      <td>1585452839</td>\n    </tr>\n    <tr>\n      <th>1</th>\n      <td>4391</td>\n      <td>False</td>\n      <td>55</td>\n      <td>False</td>\n      <td>phone</td>\n      <td>1585409861</td>\n    </tr>\n    <tr>\n      <th>2</th>\n      <td>27372</td>\n      <td>False</td>\n      <td>64</td>\n      <td>False</td>\n      <td>phone</td>\n      <td>1585446018</td>\n    </tr>\n    <tr>\n      <th>3</th>\n      <td>11989</td>\n      <td>False</td>\n      <td>44</td>\n      <td>True</td>\n      <td>computer</td>\n      <td>1585403698</td>\n    </tr>\n    <tr>\n      <th>4</th>\n      <td>60664</td>\n      <td>False</td>\n      <td>49</td>\n      <td>True</td>\n      <td>phone</td>\n      <td>1585406918</td>\n    </tr>\n  </tbody>\n</table>\n</div>"
          },
          "metadata": {}
        }
      ],
      "execution_count": 97
    },
    {
      "cell_type": "code",
      "source": "import piplite\nawait piplite.install('seaborn')\nimport seaborn as sns\nimport matplotlib.pyplot as plt",
      "metadata": {
        "trusted": true
      },
      "outputs": [
        {
          "name": "stderr",
          "output_type": "stream",
          "text": "Matplotlib is building the font cache; this may take a moment.\n"
        }
      ],
      "execution_count": 98
    },
    {
      "cell_type": "code",
      "source": "a = sns.countplot(x='platform', data=premium)\na.set(xlabel='Platform', ylabel='Count')\nsns.despine()\nplt.show()",
      "metadata": {
        "trusted": true
      },
      "outputs": [
        {
          "output_type": "display_data",
          "data": {
            "text/plain": "<Figure size 640x480 with 1 Axes>",
            "image/png": "[encoded data removed]"
          },
          "metadata": {}
        }
      ],
      "execution_count": 100
    },
    {
      "cell_type": "code",
      "source": "a = sns.countplot(x='platform', data=not_premium)\na.set(xlabel='Platform', ylabel='Count')\nsns.despine()\nplt.show()",
      "metadata": {
        "trusted": true
      },
      "outputs": [
        {
          "output_type": "display_data",
          "data": {
            "text/plain": "<Figure size 640x480 with 1 Axes>",
            "image/png": "[encoded data removed]"
          },
          "metadata": {}
        }
      ],
      "execution_count": 101
    },
    {
      "cell_type": "markdown",
      "source": "# Задание 7\n\nВизуализируйте число успешных операций, сделанных на платформе computer, в зависимости от возраста, используя sns.countplot. По оси x – возраст, y – число успешных операций. \n\nЕсли размер графика получается небольшим, можно добавить plt.figure(figsize=(12, 8)) в начало соответствующей ячейки.\n\nПодсказка: sns.countplot(data=Название_Датафрейма.loc[(Название_Датафрейма.platform == 'computer')\n                                   & (Название_Датафрейма.success == True)], x='age')",
      "metadata": {}
    },
    {
      "cell_type": "code",
      "source": "plt.figure(figsize=(16,5))\nsns.countplot(data=full_data.loc[(full_data.platform == 'computer') & (full_data.success == True)]\\\n              , x='age')\nplt.show() ",
      "metadata": {
        "trusted": true
      },
      "outputs": [
        {
          "output_type": "display_data",
          "data": {
            "text/plain": "<Figure size 1600x500 with 1 Axes>",
            "image/png": "[encoded data removed]"
          },
          "metadata": {}
        }
      ],
      "execution_count": 105
    },
    {
      "cell_type": "code",
      "source": "",
      "metadata": {
        "trusted": true
      },
      "outputs": [],
      "execution_count": null
    }
  ]
}